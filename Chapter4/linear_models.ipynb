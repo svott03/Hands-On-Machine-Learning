{
  "metadata": {
    "kernelspec": {
      "language": "python",
      "display_name": "Python 3",
      "name": "python3"
    },
    "language_info": {
      "pygments_lexer": "ipython3",
      "nbconvert_exporter": "python",
      "version": "3.6.4",
      "file_extension": ".py",
      "codemirror_mode": {
        "name": "ipython",
        "version": 3
      },
      "name": "python",
      "mimetype": "text/x-python"
    },
    "colab": {
      "name": "linear-models-ipynb.ipynb",
      "provenance": []
    }
  },
  "nbformat_minor": 0,
  "nbformat": 4,
  "cells": [
    {
      "cell_type": "code",
      "source": [
        "import numpy as np\n",
        "X = 2 * np.random.rand(100, 1)\n",
        "y = 4 + 3 * X + np.random.randn(100, 1)\n",
        "X_b = np.c_[np.ones((100, 1)), X] # add x0 = 1 to each instan\n",
        "theta_best = np.linalg.inv(X_b.T.dot(X_b)).dot(X_b.T).dot(y)"
      ],
      "metadata": {
        "execution": {
          "iopub.status.busy": "2022-04-03T02:17:03.947391Z",
          "iopub.execute_input": "2022-04-03T02:17:03.947934Z",
          "iopub.status.idle": "2022-04-03T02:17:03.965083Z",
          "shell.execute_reply.started": "2022-04-03T02:17:03.9479Z",
          "shell.execute_reply": "2022-04-03T02:17:03.964328Z"
        },
        "trusted": true,
        "id": "ib-8mloUpvVy"
      },
      "execution_count": 3,
      "outputs": []
    },
    {
      "cell_type": "code",
      "source": [
        "theta_best"
      ],
      "metadata": {
        "execution": {
          "iopub.status.busy": "2022-04-03T02:17:03.966547Z",
          "iopub.execute_input": "2022-04-03T02:17:03.966791Z",
          "iopub.status.idle": "2022-04-03T02:17:03.974866Z",
          "shell.execute_reply.started": "2022-04-03T02:17:03.966762Z",
          "shell.execute_reply": "2022-04-03T02:17:03.974153Z"
        },
        "trusted": true,
        "id": "mptp7KBApvVz"
      },
      "execution_count": null,
      "outputs": []
    },
    {
      "cell_type": "code",
      "source": [
        "X_new = np.array([[0], [2]])\n",
        "X_new_b = np.c_[np.ones((2, 1)), X_new] # add x0 = 1 to each instance\n",
        "y_predict = X_new_b.dot(theta_best)\n",
        "y_predict"
      ],
      "metadata": {
        "execution": {
          "iopub.status.busy": "2022-04-03T02:17:03.976211Z",
          "iopub.execute_input": "2022-04-03T02:17:03.976659Z",
          "iopub.status.idle": "2022-04-03T02:17:03.988771Z",
          "shell.execute_reply.started": "2022-04-03T02:17:03.976625Z",
          "shell.execute_reply": "2022-04-03T02:17:03.987874Z"
        },
        "trusted": true,
        "colab": {
          "base_uri": "https://localhost:8080/"
        },
        "id": "PJn2AmKNpvVz",
        "outputId": "94b15f55-f44c-4cff-d2e5-b3410d6b4b9d"
      },
      "execution_count": 26,
      "outputs": [
        {
          "output_type": "execute_result",
          "data": {
            "text/plain": [
              "array([[3.99376305],\n",
              "       [9.96223084]])"
            ]
          },
          "metadata": {},
          "execution_count": 26
        }
      ]
    },
    {
      "cell_type": "code",
      "source": [
        "import matplotlib.pyplot as plt\n",
        "plt.plot(X_new, y_predict, \"r-\")\n",
        "plt.plot(X, y, \"b.\")\n",
        "plt.axis([0, 2, 0, 15])\n",
        "plt.show()"
      ],
      "metadata": {
        "execution": {
          "iopub.status.busy": "2022-04-03T02:17:04.002712Z",
          "iopub.execute_input": "2022-04-03T02:17:04.00324Z",
          "iopub.status.idle": "2022-04-03T02:17:04.204603Z",
          "shell.execute_reply.started": "2022-04-03T02:17:04.003204Z",
          "shell.execute_reply": "2022-04-03T02:17:04.203588Z"
        },
        "trusted": true,
        "colab": {
          "base_uri": "https://localhost:8080/",
          "height": 265
        },
        "id": "zfIF7PeKpvV0",
        "outputId": "c4b8c515-5310-4487-bec4-d7bc668f41ab"
      },
      "execution_count": 27,
      "outputs": [
        {
          "output_type": "display_data",
          "data": {
            "text/plain": [
              "<Figure size 432x288 with 1 Axes>"
            ],
            "image/png": "[encoded data removed]"
          },
          "metadata": {
            "needs_background": "light"
          }
        }
      ]
    },
    {
      "cell_type": "code",
      "source": [
        "from sklearn.linear_model import LinearRegression\n",
        "lin_reg = LinearRegression()\n",
        "lin_reg.fit(X, y)\n",
        "lin_reg.intercept_, lin_reg.coef_\n",
        "lin_reg.predict(X_new)"
      ],
      "metadata": {
        "execution": {
          "iopub.status.busy": "2022-04-03T02:17:04.206791Z",
          "iopub.execute_input": "2022-04-03T02:17:04.207106Z",
          "iopub.status.idle": "2022-04-03T02:17:04.227031Z",
          "shell.execute_reply.started": "2022-04-03T02:17:04.207063Z",
          "shell.execute_reply": "2022-04-03T02:17:04.226312Z"
        },
        "trusted": true,
        "id": "2lcreI2WpvV0"
      },
      "execution_count": null,
      "outputs": []
    },
    {
      "cell_type": "code",
      "source": [
        "theta_best_svd, residuals, rank, s = np.linalg.lstsq(X_b, y, rcond=1e-6)\n",
        "theta_best_svd"
      ],
      "metadata": {
        "execution": {
          "iopub.status.busy": "2022-04-03T02:17:04.227968Z",
          "iopub.execute_input": "2022-04-03T02:17:04.228681Z",
          "iopub.status.idle": "2022-04-03T02:17:04.245663Z",
          "shell.execute_reply.started": "2022-04-03T02:17:04.228623Z",
          "shell.execute_reply": "2022-04-03T02:17:04.244852Z"
        },
        "trusted": true,
        "id": "xlb4pn7UpvV1"
      },
      "execution_count": null,
      "outputs": []
    },
    {
      "cell_type": "code",
      "source": [
        "np.linalg.pinv(X_b).dot(y)"
      ],
      "metadata": {
        "execution": {
          "iopub.status.busy": "2022-04-03T02:17:04.247225Z",
          "iopub.execute_input": "2022-04-03T02:17:04.247693Z",
          "iopub.status.idle": "2022-04-03T02:17:04.256801Z",
          "shell.execute_reply.started": "2022-04-03T02:17:04.247661Z",
          "shell.execute_reply": "2022-04-03T02:17:04.255881Z"
        },
        "trusted": true,
        "id": "rIOjc5qEpvV1"
      },
      "execution_count": null,
      "outputs": []
    },
    {
      "cell_type": "code",
      "source": [
        "eta = 0.1 # learning rate\n",
        "n_iterations = 1000\n",
        "m = 100\n",
        "theta = np.random.randn(2,1) # random initialization\n",
        "for iteration in range(n_iterations):\n",
        " gradients = 2/m * X_b.T.dot(X_b.dot(theta) - y)\n",
        " theta = theta - eta * gradients"
      ],
      "metadata": {
        "execution": {
          "iopub.status.busy": "2022-04-03T02:17:04.258693Z",
          "iopub.execute_input": "2022-04-03T02:17:04.2589Z",
          "iopub.status.idle": "2022-04-03T02:17:04.271996Z",
          "shell.execute_reply.started": "2022-04-03T02:17:04.258877Z",
          "shell.execute_reply": "2022-04-03T02:17:04.271335Z"
        },
        "trusted": true,
        "id": "ub0u13zSpvV2"
      },
      "execution_count": null,
      "outputs": []
    },
    {
      "cell_type": "code",
      "source": [
        "theta"
      ],
      "metadata": {
        "execution": {
          "iopub.status.busy": "2022-04-03T02:17:04.273378Z",
          "iopub.execute_input": "2022-04-03T02:17:04.273863Z",
          "iopub.status.idle": "2022-04-03T02:17:04.285008Z",
          "shell.execute_reply.started": "2022-04-03T02:17:04.273821Z",
          "shell.execute_reply": "2022-04-03T02:17:04.284209Z"
        },
        "trusted": true,
        "id": "VzoHKmokpvV2"
      },
      "execution_count": null,
      "outputs": []
    },
    {
      "cell_type": "code",
      "source": [
        "n_epochs = 50\n",
        "t0, t1 = 5, 50 # learning schedule hyperparameters\n",
        "def learning_schedule(t):\n",
        "    return t0 / (t + t1)\n",
        "theta = np.random.randn(2,1) # random initialization\n",
        "for epoch in range(n_epochs):\n",
        "    for i in range(m):\n",
        "        random_index = np.random.randint(m)\n",
        "        xi = X_b[random_index:random_index+1]\n",
        "        yi = y[random_index:random_index+1]\n",
        "        gradients = 2 * xi.T.dot(xi.dot(theta) - yi)\n",
        "        eta = learning_schedule(epoch * m + i)\n",
        "        theta = theta - eta * gradients"
      ],
      "metadata": {
        "execution": {
          "iopub.status.busy": "2022-04-03T02:17:04.286549Z",
          "iopub.execute_input": "2022-04-03T02:17:04.287095Z",
          "iopub.status.idle": "2022-04-03T02:17:04.348991Z",
          "shell.execute_reply.started": "2022-04-03T02:17:04.28705Z",
          "shell.execute_reply": "2022-04-03T02:17:04.348065Z"
        },
        "trusted": true,
        "id": "VdfmuV3vpvV2"
      },
      "execution_count": null,
      "outputs": []
    },
    {
      "cell_type": "code",
      "source": [
        "theta"
      ],
      "metadata": {
        "execution": {
          "iopub.status.busy": "2022-04-03T02:17:04.35007Z",
          "iopub.execute_input": "2022-04-03T02:17:04.350278Z",
          "iopub.status.idle": "2022-04-03T02:17:04.356515Z",
          "shell.execute_reply.started": "2022-04-03T02:17:04.350237Z",
          "shell.execute_reply": "2022-04-03T02:17:04.355517Z"
        },
        "trusted": true,
        "id": "DlIjBnbzpvV3"
      },
      "execution_count": null,
      "outputs": []
    },
    {
      "cell_type": "code",
      "source": [
        "from sklearn.linear_model import SGDRegressor\n",
        "sgd_reg = SGDRegressor(max_iter=1000, tol=1e-3, penalty=None, eta0=0.1)\n",
        "sgd_reg.fit(X, y.ravel())"
      ],
      "metadata": {
        "execution": {
          "iopub.status.busy": "2022-04-03T02:17:04.358032Z",
          "iopub.execute_input": "2022-04-03T02:17:04.358795Z",
          "iopub.status.idle": "2022-04-03T02:17:04.371913Z",
          "shell.execute_reply.started": "2022-04-03T02:17:04.358748Z",
          "shell.execute_reply": "2022-04-03T02:17:04.371033Z"
        },
        "trusted": true,
        "id": "t2iQfxRtpvV3"
      },
      "execution_count": null,
      "outputs": []
    },
    {
      "cell_type": "code",
      "source": [
        "sgd_reg.intercept_, sgd_reg.coef_"
      ],
      "metadata": {
        "execution": {
          "iopub.status.busy": "2022-04-03T02:17:04.373325Z",
          "iopub.execute_input": "2022-04-03T02:17:04.374084Z",
          "iopub.status.idle": "2022-04-03T02:17:04.380496Z",
          "shell.execute_reply.started": "2022-04-03T02:17:04.374032Z",
          "shell.execute_reply": "2022-04-03T02:17:04.379841Z"
        },
        "trusted": true,
        "id": "KlnqR__1pvV3"
      },
      "execution_count": null,
      "outputs": []
    },
    {
      "cell_type": "code",
      "source": [
        "m = 100\n",
        "X = 6 * np.random.rand(m, 1) - 3\n",
        "y = 0.5 * X**2 + X + 2 + np.random.randn(m, 1)"
      ],
      "metadata": {
        "execution": {
          "iopub.status.busy": "2022-04-03T02:17:04.381968Z",
          "iopub.execute_input": "2022-04-03T02:17:04.382398Z",
          "iopub.status.idle": "2022-04-03T02:17:04.391361Z",
          "shell.execute_reply.started": "2022-04-03T02:17:04.38237Z",
          "shell.execute_reply": "2022-04-03T02:17:04.390512Z"
        },
        "trusted": true,
        "id": "o8CGthOKpvV4"
      },
      "execution_count": null,
      "outputs": []
    },
    {
      "cell_type": "code",
      "source": [
        "from sklearn.preprocessing import PolynomialFeatures\n",
        "poly_features = PolynomialFeatures(degree=2, include_bias=False)\n",
        "X_poly = poly_features.fit_transform(X)\n",
        "X[0]\n",
        "X_poly[0]"
      ],
      "metadata": {
        "execution": {
          "iopub.status.busy": "2022-04-03T02:17:04.392663Z",
          "iopub.execute_input": "2022-04-03T02:17:04.393132Z",
          "iopub.status.idle": "2022-04-03T02:17:04.404805Z",
          "shell.execute_reply.started": "2022-04-03T02:17:04.393104Z",
          "shell.execute_reply": "2022-04-03T02:17:04.403847Z"
        },
        "trusted": true,
        "id": "hC6sF113pvV4"
      },
      "execution_count": null,
      "outputs": []
    },
    {
      "cell_type": "code",
      "source": [
        "lin_reg = LinearRegression()\n",
        "lin_reg.fit(X_poly, y)\n",
        "lin_reg.intercept_, lin_reg.coef_"
      ],
      "metadata": {
        "execution": {
          "iopub.status.busy": "2022-04-03T02:17:04.405964Z",
          "iopub.execute_input": "2022-04-03T02:17:04.406217Z",
          "iopub.status.idle": "2022-04-03T02:17:04.418579Z",
          "shell.execute_reply.started": "2022-04-03T02:17:04.406184Z",
          "shell.execute_reply": "2022-04-03T02:17:04.417674Z"
        },
        "trusted": true,
        "id": "y7GZV6KLpvV4"
      },
      "execution_count": null,
      "outputs": []
    },
    {
      "cell_type": "code",
      "source": [
        "from sklearn.metrics import mean_squared_error\n",
        "from sklearn.model_selection import train_test_split\n",
        "def plot_learning_curves(model, X, y):\n",
        "    X_train, X_val, y_train, y_val = train_test_split(X, y, test_size=0.2)\n",
        "    train_errors, val_errors = [], []\n",
        "    for m in range(1, len(X_train)):\n",
        "        model.fit(X_train[:m], y_train[:m])\n",
        "        y_train_predict = model.predict(X_train[:m])\n",
        "        y_val_predict = model.predict(X_val)\n",
        "        train_errors.append(mean_squared_error(y_train[:m], y_train_predict))\n",
        "        val_errors.append(mean_squared_error(y_val, y_val_predict))\n",
        "    plt.plot(np.sqrt(train_errors), \"r-+\", linewidth=2, label=\"train\")\n",
        "    plt.plot(np.sqrt(val_errors), \"b-\", linewidth=3, label=\"val\")\n",
        "                 "
      ],
      "metadata": {
        "execution": {
          "iopub.status.busy": "2022-04-03T02:17:04.420951Z",
          "iopub.execute_input": "2022-04-03T02:17:04.421323Z",
          "iopub.status.idle": "2022-04-03T02:17:04.428297Z",
          "shell.execute_reply.started": "2022-04-03T02:17:04.421282Z",
          "shell.execute_reply": "2022-04-03T02:17:04.427408Z"
        },
        "trusted": true,
        "id": "7qMqK-2hpvV5"
      },
      "execution_count": null,
      "outputs": []
    },
    {
      "cell_type": "code",
      "source": [
        "lin_reg = LinearRegression()\n",
        "plot_learning_curves(lin_reg, X, y)"
      ],
      "metadata": {
        "execution": {
          "iopub.status.busy": "2022-04-03T02:17:04.429365Z",
          "iopub.execute_input": "2022-04-03T02:17:04.430325Z",
          "iopub.status.idle": "2022-04-03T02:17:04.690954Z",
          "shell.execute_reply.started": "2022-04-03T02:17:04.430277Z",
          "shell.execute_reply": "2022-04-03T02:17:04.690004Z"
        },
        "trusted": true,
        "id": "ZqJOo5_1pvV5"
      },
      "execution_count": null,
      "outputs": []
    },
    {
      "cell_type": "code",
      "source": [
        "from sklearn.pipeline import Pipeline\n",
        "polynomial_regression = Pipeline([\n",
        " (\"poly_features\", PolynomialFeatures(degree=10, include_bias=False)),\n",
        " (\"lin_reg\", LinearRegression()),\n",
        " ])\n",
        "plot_learning_curves(polynomial_regression, X, y)"
      ],
      "metadata": {
        "execution": {
          "iopub.status.busy": "2022-04-03T02:17:04.69209Z",
          "iopub.execute_input": "2022-04-03T02:17:04.692323Z",
          "iopub.status.idle": "2022-04-03T02:17:05.011943Z",
          "shell.execute_reply.started": "2022-04-03T02:17:04.692289Z",
          "shell.execute_reply": "2022-04-03T02:17:05.011303Z"
        },
        "trusted": true,
        "id": "IT9ONNOApvV6"
      },
      "execution_count": null,
      "outputs": []
    },
    {
      "cell_type": "code",
      "source": [
        "from sklearn.linear_model import Ridge\n",
        "ridge_reg = Ridge(alpha=1, solver=\"cholesky\")\n",
        "ridge_reg.fit(X, y)\n",
        "ridge_reg.predict([[1.5]])"
      ],
      "metadata": {
        "execution": {
          "iopub.status.busy": "2022-04-03T02:17:05.013135Z",
          "iopub.execute_input": "2022-04-03T02:17:05.013419Z",
          "iopub.status.idle": "2022-04-03T02:17:05.026995Z",
          "shell.execute_reply.started": "2022-04-03T02:17:05.013389Z",
          "shell.execute_reply": "2022-04-03T02:17:05.025953Z"
        },
        "trusted": true,
        "id": "RStL-lCVpvV6"
      },
      "execution_count": null,
      "outputs": []
    },
    {
      "cell_type": "code",
      "source": [
        "# Building logistic Iris Classifier\n",
        "from sklearn import datasets\n",
        "iris = datasets.load_iris()\n",
        "X = iris[\"data\"][:, 3:]\n",
        "y = (iris[\"target\"] == 2).astype(np.int_) # 1 if Iris virginica, else 0"
      ],
      "metadata": {
        "id": "4HmPhb0_pvV6"
      },
      "execution_count": 20,
      "outputs": []
    },
    {
      "cell_type": "code",
      "source": [
        "from sklearn.linear_model import LogisticRegression \n",
        "log_reg = LogisticRegression()\n",
        "log_reg.fit(X, y)"
      ],
      "metadata": {
        "colab": {
          "base_uri": "https://localhost:8080/"
        },
        "id": "9hAAHgf7qDiO",
        "outputId": "160189fd-15c1-406c-b40b-9fdbf11a753a"
      },
      "execution_count": 22,
      "outputs": [
        {
          "output_type": "execute_result",
          "data": {
            "text/plain": [
              "LogisticRegression()"
            ]
          },
          "metadata": {},
          "execution_count": 22
        }
      ]
    },
    {
      "cell_type": "code",
      "source": [
        "X_new = np.linspace(0, 3, 1000).reshape(-1, 1)\n",
        "y_proba = log_reg.predict_proba(X_new)\n",
        "plt.plot(X_new, y_proba[:, 1], \"g-\", label=\"Iris virginica\") \n",
        "plt.plot(X_new, y_proba[:, 0], \"b--\", label=\"Not Iris virginica\") # + more Matplotlib code to make the image look pretty\n"
      ],
      "metadata": {
        "colab": {
          "base_uri": "https://localhost:8080/",
          "height": 282
        },
        "id": "JyfkRidNsSXS",
        "outputId": "8bf8a917-a0c3-4b94-f582-67ef53d26512"
      },
      "execution_count": 28,
      "outputs": [
        {
          "output_type": "execute_result",
          "data": {
            "text/plain": [
              "[<matplotlib.lines.Line2D at 0x7f236fa51c90>]"
            ]
          },
          "metadata": {},
          "execution_count": 28
        },
        {
          "output_type": "display_data",
          "data": {
            "text/plain": [
              "<Figure size 432x288 with 1 Axes>"
            ],
            "image/png": "[encoded data removed]"
          },
          "metadata": {
            "needs_background": "light"
          }
        }
      ]
    },
    {
      "cell_type": "code",
      "source": [
        "log_reg.predict([[1.7], [1.6], [1.5]])"
      ],
      "metadata": {
        "colab": {
          "base_uri": "https://localhost:8080/"
        },
        "id": "dI5oU43jsVcv",
        "outputId": "1fc7f6ec-e3c4-472f-b844-da739bd7a80d"
      },
      "execution_count": 34,
      "outputs": [
        {
          "output_type": "execute_result",
          "data": {
            "text/plain": [
              "array([1, 0, 0])"
            ]
          },
          "metadata": {},
          "execution_count": 34
        }
      ]
    },
    {
      "cell_type": "code",
      "source": [
        "X = iris[\"data\"][:, (2, 3)] # petal length, petal width \n",
        "y = iris[\"target\"]\n",
        "softmax_reg = LogisticRegression(multi_class=\"multinomial\",solver=\"lbfgs\", C=10)\n",
        "softmax_reg.fit(X, y)"
      ],
      "metadata": {
        "colab": {
          "base_uri": "https://localhost:8080/"
        },
        "id": "LUdcQJp3tEm7",
        "outputId": "6c43a742-6ff2-44f4-b8be-26d2743f7595"
      },
      "execution_count": 35,
      "outputs": [
        {
          "output_type": "execute_result",
          "data": {
            "text/plain": [
              "LogisticRegression(C=10, multi_class='multinomial')"
            ]
          },
          "metadata": {},
          "execution_count": 35
        }
      ]
    },
    {
      "cell_type": "code",
      "source": [
        "softmax_reg.predict([[5, 2]])\n",
        "softmax_reg.predict_proba([[5, 2]])"
      ],
      "metadata": {
        "colab": {
          "base_uri": "https://localhost:8080/"
        },
        "id": "v14vFvw20CZA",
        "outputId": "40119963-26d7-4fee-fa1c-275664d09bca"
      },
      "execution_count": 36,
      "outputs": [
        {
          "output_type": "execute_result",
          "data": {
            "text/plain": [
              "array([[6.38014896e-07, 5.74929995e-02, 9.42506362e-01]])"
            ]
          },
          "metadata": {},
          "execution_count": 36
        }
      ]
    },
    {
      "cell_type": "code",
      "source": [
        "# Exercises\n",
        "# 1. Anything but the Normal Equation (Too computationally expensive)\n",
        "# 2. Normal Equation or SVD approach doesn't need scaling. Logistic Regression, You can normalize feature scales\n",
        "# 3. No, Logistic Regression cost function is convex.\n",
        "# 4. If the optimization problem is convex, there is no local minimum. Else, SGD and Mini Batch GD don't truly converge so they will vary.\n",
        "# 5. The learning rate could be too high and so the algorithm is diverging. If the training error isn't going up, then you are overfitting and should stop training early.\n",
        "# 6. No, it's progress varies. You could save the model over intervals then once it stops improving over a long period of time, use the best interval as your model.\n",
        "# 7. SGD reaches optimal solution the fastest, Batch GD actually converges at the optimal minimum. The others can converge by adding a stop threshold\n",
        "# 8. You are overfitting. Reduce polynomial degree. You can scale using StandardScaler or MinMaxScaler, Then use a regression model like ridge regression to add a penalty term or use a higher alpha\n",
        "# 9. High bias b/c it is not fitting the training data well. Reduce A for stronger parameters (You likely have a weak model).\n",
        "# 10. a) Ridge regression normalizes to new data better than linear regression (without regularization). \n",
        "# 10. b) Lasso does well when there are a small number of significant parameters. Ridge works well when there are a large number of contributing parameters (All with relatively same magnitude).\n",
        "# 10. c) Elastic Net over Lasso for large number of parameters.\n",
        "# 11. Implement 2 logistic regression models because there are 2 distinct values (with 2 options) that contribute to a classification. One softmax regression only applies to a single classification.\n",
        "# 12. "
      ],
      "metadata": {
        "id": "20n3wuCV0j8T"
      },
      "execution_count": 37,
      "outputs": []
    }
  ]
}